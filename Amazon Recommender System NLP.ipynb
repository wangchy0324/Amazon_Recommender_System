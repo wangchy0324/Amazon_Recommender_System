{
 "cells": [
  {
   "cell_type": "code",
   "execution_count": 1,
   "metadata": {},
   "outputs": [],
   "source": [
    "%matplotlib inline\n",
    "import numpy as np\n",
    "import pandas as pd\n",
    "import matplotlib.pyplot as plt\n",
    "from pandas import DataFrame \n",
    "import nltk\n",
    "\n",
    "from sklearn.neighbors import NearestNeighbors\n",
    "from sklearn.linear_model import LogisticRegression\n",
    "from sklearn import neighbors\n",
    "from scipy.spatial.distance import cosine\n",
    "from sklearn.metrics import classification_report\n",
    "from sklearn.metrics import accuracy_score\n",
    "from sklearn.feature_selection import SelectKBest\n",
    "from sklearn.feature_extraction.text import CountVectorizer, TfidfTransformer\n",
    "\n",
    "import string\n",
    "from wordcloud import WordCloud, STOPWORDS\n",
    "from sklearn.metrics import mean_squared_error\n",
    "\n",
    "import seaborn as sns\n",
    "from sklearn.model_selection import train_test_split\n",
    "from sklearn.feature_extraction.text import TfidfVectorizer\n",
    "import string  \n",
    "from sklearn import svm\n",
    "\n",
    "from string import punctuation\n",
    "from nltk.corpus import stopwords\n",
    "from nltk.stem import WordNetLemmatizer\n",
    "import nltk\n",
    "from nltk import ngrams\n",
    "from itertools import chain\n",
    "from wordcloud import WordCloud\n",
    "from fractions import Fraction\n",
    "import re"
   ]
  },
  {
   "cell_type": "code",
   "execution_count": 7,
   "metadata": {},
   "outputs": [
    {
     "name": "stderr",
     "output_type": "stream",
     "text": [
      "[nltk_data] Downloading package stopwords to\n",
      "[nltk_data]     C:\\Users\\wang1090\\AppData\\Roaming\\nltk_data...\n",
      "[nltk_data]   Unzipping corpora\\stopwords.zip.\n"
     ]
    },
    {
     "data": {
      "text/plain": [
       "True"
      ]
     },
     "execution_count": 7,
     "metadata": {},
     "output_type": "execute_result"
    }
   ],
   "source": [
    "import nltk\n",
    "nltk.download('stopwords')"
   ]
  },
  {
   "cell_type": "code",
   "execution_count": 10,
   "metadata": {},
   "outputs": [
    {
     "name": "stderr",
     "output_type": "stream",
     "text": [
      "[nltk_data] Downloading package punkt to\n",
      "[nltk_data]     C:\\Users\\wang1090\\AppData\\Roaming\\nltk_data...\n",
      "[nltk_data]   Unzipping tokenizers\\punkt.zip.\n"
     ]
    },
    {
     "data": {
      "text/plain": [
       "True"
      ]
     },
     "execution_count": 10,
     "metadata": {},
     "output_type": "execute_result"
    }
   ],
   "source": [
    "import nltk\n",
    "nltk.download('punkt')"
   ]
  },
  {
   "cell_type": "code",
   "execution_count": 12,
   "metadata": {},
   "outputs": [
    {
     "name": "stderr",
     "output_type": "stream",
     "text": [
      "[nltk_data] Downloading package wordnet to\n",
      "[nltk_data]     C:\\Users\\wang1090\\AppData\\Roaming\\nltk_data...\n",
      "[nltk_data]   Unzipping corpora\\wordnet.zip.\n"
     ]
    },
    {
     "data": {
      "text/plain": [
       "True"
      ]
     },
     "execution_count": 12,
     "metadata": {},
     "output_type": "execute_result"
    }
   ],
   "source": [
    "import nltk\n",
    "nltk.download('wordnet')"
   ]
  },
  {
   "cell_type": "code",
   "execution_count": 2,
   "metadata": {},
   "outputs": [
    {
     "data": {
      "text/html": [
       "<div>\n",
       "<style scoped>\n",
       "    .dataframe tbody tr th:only-of-type {\n",
       "        vertical-align: middle;\n",
       "    }\n",
       "\n",
       "    .dataframe tbody tr th {\n",
       "        vertical-align: top;\n",
       "    }\n",
       "\n",
       "    .dataframe thead th {\n",
       "        text-align: right;\n",
       "    }\n",
       "</style>\n",
       "<table border=\"1\" class=\"dataframe\">\n",
       "  <thead>\n",
       "    <tr style=\"text-align: right;\">\n",
       "      <th></th>\n",
       "      <th>reviewerID</th>\n",
       "      <th>asin</th>\n",
       "      <th>reviewerName</th>\n",
       "      <th>helpful</th>\n",
       "      <th>reviewText</th>\n",
       "      <th>overall</th>\n",
       "      <th>summary</th>\n",
       "      <th>unixReviewTime</th>\n",
       "      <th>reviewTime</th>\n",
       "    </tr>\n",
       "  </thead>\n",
       "  <tbody>\n",
       "    <tr>\n",
       "      <td>0</td>\n",
       "      <td>AB9S9279OZ3QO</td>\n",
       "      <td>0078764343</td>\n",
       "      <td>Alan</td>\n",
       "      <td>[1, 1]</td>\n",
       "      <td>I haven't gotten around to playing the campaig...</td>\n",
       "      <td>5</td>\n",
       "      <td>Good game and Beta access!!</td>\n",
       "      <td>1373155200</td>\n",
       "      <td>07 7, 2013</td>\n",
       "    </tr>\n",
       "    <tr>\n",
       "      <td>1</td>\n",
       "      <td>A24SSUT5CSW8BH</td>\n",
       "      <td>0078764343</td>\n",
       "      <td>Kindle Customer</td>\n",
       "      <td>[0, 0]</td>\n",
       "      <td>I want to start off by saying I have never pla...</td>\n",
       "      <td>5</td>\n",
       "      <td>Love the game</td>\n",
       "      <td>1377302400</td>\n",
       "      <td>08 24, 2013</td>\n",
       "    </tr>\n",
       "    <tr>\n",
       "      <td>2</td>\n",
       "      <td>AK3V0HEBJMQ7J</td>\n",
       "      <td>0078764343</td>\n",
       "      <td>Miss Kris \"Krissy\"</td>\n",
       "      <td>[0, 0]</td>\n",
       "      <td>this will be my second medal of honor I love h...</td>\n",
       "      <td>4</td>\n",
       "      <td>MOH nice</td>\n",
       "      <td>1372896000</td>\n",
       "      <td>07 4, 2013</td>\n",
       "    </tr>\n",
       "    <tr>\n",
       "      <td>3</td>\n",
       "      <td>A10BECPH7W8HM7</td>\n",
       "      <td>043933702X</td>\n",
       "      <td>GMC \"Old Time Modeler\"</td>\n",
       "      <td>[0, 0]</td>\n",
       "      <td>great game when it first came out, and still a...</td>\n",
       "      <td>5</td>\n",
       "      <td>Five Stars</td>\n",
       "      <td>1404950400</td>\n",
       "      <td>07 10, 2014</td>\n",
       "    </tr>\n",
       "    <tr>\n",
       "      <td>4</td>\n",
       "      <td>A2PRV9OULX1TWP</td>\n",
       "      <td>043933702X</td>\n",
       "      <td>grimi</td>\n",
       "      <td>[0, 0]</td>\n",
       "      <td>this is the first need for speed I bought year...</td>\n",
       "      <td>5</td>\n",
       "      <td>memory lane</td>\n",
       "      <td>1386115200</td>\n",
       "      <td>12 4, 2013</td>\n",
       "    </tr>\n",
       "  </tbody>\n",
       "</table>\n",
       "</div>"
      ],
      "text/plain": [
       "       reviewerID        asin            reviewerName helpful  \\\n",
       "0   AB9S9279OZ3QO  0078764343                    Alan  [1, 1]   \n",
       "1  A24SSUT5CSW8BH  0078764343         Kindle Customer  [0, 0]   \n",
       "2   AK3V0HEBJMQ7J  0078764343      Miss Kris \"Krissy\"  [0, 0]   \n",
       "3  A10BECPH7W8HM7  043933702X  GMC \"Old Time Modeler\"  [0, 0]   \n",
       "4  A2PRV9OULX1TWP  043933702X                   grimi  [0, 0]   \n",
       "\n",
       "                                          reviewText  overall  \\\n",
       "0  I haven't gotten around to playing the campaig...        5   \n",
       "1  I want to start off by saying I have never pla...        5   \n",
       "2  this will be my second medal of honor I love h...        4   \n",
       "3  great game when it first came out, and still a...        5   \n",
       "4  this is the first need for speed I bought year...        5   \n",
       "\n",
       "                       summary  unixReviewTime   reviewTime  \n",
       "0  Good game and Beta access!!      1373155200   07 7, 2013  \n",
       "1                Love the game      1377302400  08 24, 2013  \n",
       "2                     MOH nice      1372896000   07 4, 2013  \n",
       "3                   Five Stars      1404950400  07 10, 2014  \n",
       "4                  memory lane      1386115200   12 4, 2013  "
      ]
     },
     "execution_count": 2,
     "metadata": {},
     "output_type": "execute_result"
    }
   ],
   "source": [
    "reviews = pd.read_json('reviews_Video_Games.json',lines=True)\n",
    "reviews.head()"
   ]
  },
  {
   "cell_type": "code",
   "execution_count": 3,
   "metadata": {},
   "outputs": [],
   "source": [
    "reviews[['helpful_n','helpful_d']]=pd.DataFrame(reviews.helpful.values.tolist(),index=reviews.index)"
   ]
  },
  {
   "cell_type": "code",
   "execution_count": 4,
   "metadata": {},
   "outputs": [
    {
     "data": {
      "text/html": [
       "<div>\n",
       "<style scoped>\n",
       "    .dataframe tbody tr th:only-of-type {\n",
       "        vertical-align: middle;\n",
       "    }\n",
       "\n",
       "    .dataframe tbody tr th {\n",
       "        vertical-align: top;\n",
       "    }\n",
       "\n",
       "    .dataframe thead th {\n",
       "        text-align: right;\n",
       "    }\n",
       "</style>\n",
       "<table border=\"1\" class=\"dataframe\">\n",
       "  <thead>\n",
       "    <tr style=\"text-align: right;\">\n",
       "      <th></th>\n",
       "      <th>reviewerID</th>\n",
       "      <th>asin</th>\n",
       "      <th>reviewerName</th>\n",
       "      <th>helpful</th>\n",
       "      <th>reviewText</th>\n",
       "      <th>overall</th>\n",
       "      <th>summary</th>\n",
       "      <th>unixReviewTime</th>\n",
       "      <th>reviewTime</th>\n",
       "      <th>helpful_n</th>\n",
       "      <th>helpful_d</th>\n",
       "    </tr>\n",
       "  </thead>\n",
       "  <tbody>\n",
       "    <tr>\n",
       "      <td>0</td>\n",
       "      <td>AB9S9279OZ3QO</td>\n",
       "      <td>0078764343</td>\n",
       "      <td>Alan</td>\n",
       "      <td>[1, 1]</td>\n",
       "      <td>I haven't gotten around to playing the campaig...</td>\n",
       "      <td>5</td>\n",
       "      <td>Good game and Beta access!!</td>\n",
       "      <td>1373155200</td>\n",
       "      <td>07 7, 2013</td>\n",
       "      <td>1</td>\n",
       "      <td>1</td>\n",
       "    </tr>\n",
       "    <tr>\n",
       "      <td>1</td>\n",
       "      <td>A24SSUT5CSW8BH</td>\n",
       "      <td>0078764343</td>\n",
       "      <td>Kindle Customer</td>\n",
       "      <td>[0, 0]</td>\n",
       "      <td>I want to start off by saying I have never pla...</td>\n",
       "      <td>5</td>\n",
       "      <td>Love the game</td>\n",
       "      <td>1377302400</td>\n",
       "      <td>08 24, 2013</td>\n",
       "      <td>0</td>\n",
       "      <td>0</td>\n",
       "    </tr>\n",
       "    <tr>\n",
       "      <td>2</td>\n",
       "      <td>AK3V0HEBJMQ7J</td>\n",
       "      <td>0078764343</td>\n",
       "      <td>Miss Kris \"Krissy\"</td>\n",
       "      <td>[0, 0]</td>\n",
       "      <td>this will be my second medal of honor I love h...</td>\n",
       "      <td>4</td>\n",
       "      <td>MOH nice</td>\n",
       "      <td>1372896000</td>\n",
       "      <td>07 4, 2013</td>\n",
       "      <td>0</td>\n",
       "      <td>0</td>\n",
       "    </tr>\n",
       "    <tr>\n",
       "      <td>3</td>\n",
       "      <td>A10BECPH7W8HM7</td>\n",
       "      <td>043933702X</td>\n",
       "      <td>GMC \"Old Time Modeler\"</td>\n",
       "      <td>[0, 0]</td>\n",
       "      <td>great game when it first came out, and still a...</td>\n",
       "      <td>5</td>\n",
       "      <td>Five Stars</td>\n",
       "      <td>1404950400</td>\n",
       "      <td>07 10, 2014</td>\n",
       "      <td>0</td>\n",
       "      <td>0</td>\n",
       "    </tr>\n",
       "    <tr>\n",
       "      <td>4</td>\n",
       "      <td>A2PRV9OULX1TWP</td>\n",
       "      <td>043933702X</td>\n",
       "      <td>grimi</td>\n",
       "      <td>[0, 0]</td>\n",
       "      <td>this is the first need for speed I bought year...</td>\n",
       "      <td>5</td>\n",
       "      <td>memory lane</td>\n",
       "      <td>1386115200</td>\n",
       "      <td>12 4, 2013</td>\n",
       "      <td>0</td>\n",
       "      <td>0</td>\n",
       "    </tr>\n",
       "  </tbody>\n",
       "</table>\n",
       "</div>"
      ],
      "text/plain": [
       "       reviewerID        asin            reviewerName helpful  \\\n",
       "0   AB9S9279OZ3QO  0078764343                    Alan  [1, 1]   \n",
       "1  A24SSUT5CSW8BH  0078764343         Kindle Customer  [0, 0]   \n",
       "2   AK3V0HEBJMQ7J  0078764343      Miss Kris \"Krissy\"  [0, 0]   \n",
       "3  A10BECPH7W8HM7  043933702X  GMC \"Old Time Modeler\"  [0, 0]   \n",
       "4  A2PRV9OULX1TWP  043933702X                   grimi  [0, 0]   \n",
       "\n",
       "                                          reviewText  overall  \\\n",
       "0  I haven't gotten around to playing the campaig...        5   \n",
       "1  I want to start off by saying I have never pla...        5   \n",
       "2  this will be my second medal of honor I love h...        4   \n",
       "3  great game when it first came out, and still a...        5   \n",
       "4  this is the first need for speed I bought year...        5   \n",
       "\n",
       "                       summary  unixReviewTime   reviewTime  helpful_n  \\\n",
       "0  Good game and Beta access!!      1373155200   07 7, 2013          1   \n",
       "1                Love the game      1377302400  08 24, 2013          0   \n",
       "2                     MOH nice      1372896000   07 4, 2013          0   \n",
       "3                   Five Stars      1404950400  07 10, 2014          0   \n",
       "4                  memory lane      1386115200   12 4, 2013          0   \n",
       "\n",
       "   helpful_d  \n",
       "0          1  \n",
       "1          0  \n",
       "2          0  \n",
       "3          0  \n",
       "4          0  "
      ]
     },
     "execution_count": 4,
     "metadata": {},
     "output_type": "execute_result"
    }
   ],
   "source": [
    "reviews.head()"
   ]
  },
  {
   "cell_type": "code",
   "execution_count": 5,
   "metadata": {},
   "outputs": [
    {
     "data": {
      "text/html": [
       "<div>\n",
       "<style scoped>\n",
       "    .dataframe tbody tr th:only-of-type {\n",
       "        vertical-align: middle;\n",
       "    }\n",
       "\n",
       "    .dataframe tbody tr th {\n",
       "        vertical-align: top;\n",
       "    }\n",
       "\n",
       "    .dataframe thead th {\n",
       "        text-align: right;\n",
       "    }\n",
       "</style>\n",
       "<table border=\"1\" class=\"dataframe\">\n",
       "  <thead>\n",
       "    <tr style=\"text-align: right;\">\n",
       "      <th></th>\n",
       "      <th>reviewerID</th>\n",
       "      <th>asin</th>\n",
       "      <th>reviewerName</th>\n",
       "      <th>helpful</th>\n",
       "      <th>reviewText</th>\n",
       "      <th>overall</th>\n",
       "      <th>summary</th>\n",
       "      <th>unixReviewTime</th>\n",
       "      <th>reviewTime</th>\n",
       "      <th>helpful_n</th>\n",
       "      <th>helpful_d</th>\n",
       "      <th>helpful_percentage</th>\n",
       "      <th>helpful_range</th>\n",
       "      <th>id</th>\n",
       "    </tr>\n",
       "  </thead>\n",
       "  <tbody>\n",
       "    <tr>\n",
       "      <td>0</td>\n",
       "      <td>AB9S9279OZ3QO</td>\n",
       "      <td>0078764343</td>\n",
       "      <td>Alan</td>\n",
       "      <td>[1, 1]</td>\n",
       "      <td>I haven't gotten around to playing the campaig...</td>\n",
       "      <td>5</td>\n",
       "      <td>Good game and Beta access!!</td>\n",
       "      <td>1373155200</td>\n",
       "      <td>07 7, 2013</td>\n",
       "      <td>1</td>\n",
       "      <td>1</td>\n",
       "      <td>1.0</td>\n",
       "      <td>80-100%</td>\n",
       "      <td>0</td>\n",
       "    </tr>\n",
       "    <tr>\n",
       "      <td>1</td>\n",
       "      <td>A24SSUT5CSW8BH</td>\n",
       "      <td>0078764343</td>\n",
       "      <td>Kindle Customer</td>\n",
       "      <td>[0, 0]</td>\n",
       "      <td>I want to start off by saying I have never pla...</td>\n",
       "      <td>5</td>\n",
       "      <td>Love the game</td>\n",
       "      <td>1377302400</td>\n",
       "      <td>08 24, 2013</td>\n",
       "      <td>0</td>\n",
       "      <td>0</td>\n",
       "      <td>-1.0</td>\n",
       "      <td>Empty</td>\n",
       "      <td>1</td>\n",
       "    </tr>\n",
       "    <tr>\n",
       "      <td>2</td>\n",
       "      <td>AK3V0HEBJMQ7J</td>\n",
       "      <td>0078764343</td>\n",
       "      <td>Miss Kris \"Krissy\"</td>\n",
       "      <td>[0, 0]</td>\n",
       "      <td>this will be my second medal of honor I love h...</td>\n",
       "      <td>4</td>\n",
       "      <td>MOH nice</td>\n",
       "      <td>1372896000</td>\n",
       "      <td>07 4, 2013</td>\n",
       "      <td>0</td>\n",
       "      <td>0</td>\n",
       "      <td>-1.0</td>\n",
       "      <td>Empty</td>\n",
       "      <td>2</td>\n",
       "    </tr>\n",
       "    <tr>\n",
       "      <td>3</td>\n",
       "      <td>A10BECPH7W8HM7</td>\n",
       "      <td>043933702X</td>\n",
       "      <td>GMC \"Old Time Modeler\"</td>\n",
       "      <td>[0, 0]</td>\n",
       "      <td>great game when it first came out, and still a...</td>\n",
       "      <td>5</td>\n",
       "      <td>Five Stars</td>\n",
       "      <td>1404950400</td>\n",
       "      <td>07 10, 2014</td>\n",
       "      <td>0</td>\n",
       "      <td>0</td>\n",
       "      <td>-1.0</td>\n",
       "      <td>Empty</td>\n",
       "      <td>3</td>\n",
       "    </tr>\n",
       "    <tr>\n",
       "      <td>4</td>\n",
       "      <td>A2PRV9OULX1TWP</td>\n",
       "      <td>043933702X</td>\n",
       "      <td>grimi</td>\n",
       "      <td>[0, 0]</td>\n",
       "      <td>this is the first need for speed I bought year...</td>\n",
       "      <td>5</td>\n",
       "      <td>memory lane</td>\n",
       "      <td>1386115200</td>\n",
       "      <td>12 4, 2013</td>\n",
       "      <td>0</td>\n",
       "      <td>0</td>\n",
       "      <td>-1.0</td>\n",
       "      <td>Empty</td>\n",
       "      <td>4</td>\n",
       "    </tr>\n",
       "  </tbody>\n",
       "</table>\n",
       "</div>"
      ],
      "text/plain": [
       "       reviewerID        asin            reviewerName helpful  \\\n",
       "0   AB9S9279OZ3QO  0078764343                    Alan  [1, 1]   \n",
       "1  A24SSUT5CSW8BH  0078764343         Kindle Customer  [0, 0]   \n",
       "2   AK3V0HEBJMQ7J  0078764343      Miss Kris \"Krissy\"  [0, 0]   \n",
       "3  A10BECPH7W8HM7  043933702X  GMC \"Old Time Modeler\"  [0, 0]   \n",
       "4  A2PRV9OULX1TWP  043933702X                   grimi  [0, 0]   \n",
       "\n",
       "                                          reviewText  overall  \\\n",
       "0  I haven't gotten around to playing the campaig...        5   \n",
       "1  I want to start off by saying I have never pla...        5   \n",
       "2  this will be my second medal of honor I love h...        4   \n",
       "3  great game when it first came out, and still a...        5   \n",
       "4  this is the first need for speed I bought year...        5   \n",
       "\n",
       "                       summary  unixReviewTime   reviewTime  helpful_n  \\\n",
       "0  Good game and Beta access!!      1373155200   07 7, 2013          1   \n",
       "1                Love the game      1377302400  08 24, 2013          0   \n",
       "2                     MOH nice      1372896000   07 4, 2013          0   \n",
       "3                   Five Stars      1404950400  07 10, 2014          0   \n",
       "4                  memory lane      1386115200   12 4, 2013          0   \n",
       "\n",
       "   helpful_d  helpful_percentage helpful_range  id  \n",
       "0          1                 1.0       80-100%   0  \n",
       "1          0                -1.0         Empty   1  \n",
       "2          0                -1.0         Empty   2  \n",
       "3          0                -1.0         Empty   3  \n",
       "4          0                -1.0         Empty   4  "
      ]
     },
     "execution_count": 5,
     "metadata": {},
     "output_type": "execute_result"
    }
   ],
   "source": [
    "reviews.drop_duplicates(subset=['reviewerID','asin','unixReviewTime'],inplace=True)\n",
    "reviews['helpful_percentage']=np.where(reviews['helpful_d']>0,reviews['helpful_n']/reviews['helpful_d'],-1)\n",
    "reviews['helpful_range']=pd.cut(reviews['helpful_percentage'],bins=[-1, 0, 0.2, 0.4, 0.6, 0.8, 1.0],labels=['Empty', '0-20%', '20-40%', '40-60%', '60-80%', '80-100%'], include_lowest = True)\n",
    "reviews['id']=reviews.index\n",
    "reviews.head()"
   ]
  },
  {
   "cell_type": "code",
   "execution_count": 28,
   "metadata": {},
   "outputs": [
    {
     "data": {
      "text/html": [
       "<div>\n",
       "<style scoped>\n",
       "    .dataframe tbody tr th:only-of-type {\n",
       "        vertical-align: middle;\n",
       "    }\n",
       "\n",
       "    .dataframe tbody tr th {\n",
       "        vertical-align: top;\n",
       "    }\n",
       "\n",
       "    .dataframe thead th {\n",
       "        text-align: right;\n",
       "    }\n",
       "</style>\n",
       "<table border=\"1\" class=\"dataframe\">\n",
       "  <thead>\n",
       "    <tr style=\"text-align: right;\">\n",
       "      <th>helpful_range</th>\n",
       "      <th>Empty</th>\n",
       "      <th>0-20%</th>\n",
       "      <th>20-40%</th>\n",
       "      <th>40-60%</th>\n",
       "      <th>60-80%</th>\n",
       "      <th>80-100%</th>\n",
       "    </tr>\n",
       "    <tr>\n",
       "      <th>overall</th>\n",
       "      <th></th>\n",
       "      <th></th>\n",
       "      <th></th>\n",
       "      <th></th>\n",
       "      <th></th>\n",
       "      <th></th>\n",
       "    </tr>\n",
       "  </thead>\n",
       "  <tbody>\n",
       "    <tr>\n",
       "      <td>1</td>\n",
       "      <td>54736</td>\n",
       "      <td>14151</td>\n",
       "      <td>16483</td>\n",
       "      <td>19412</td>\n",
       "      <td>18794</td>\n",
       "      <td>29264</td>\n",
       "    </tr>\n",
       "    <tr>\n",
       "      <td>2</td>\n",
       "      <td>34276</td>\n",
       "      <td>3621</td>\n",
       "      <td>6858</td>\n",
       "      <td>9498</td>\n",
       "      <td>8991</td>\n",
       "      <td>14269</td>\n",
       "    </tr>\n",
       "    <tr>\n",
       "      <td>3</td>\n",
       "      <td>66577</td>\n",
       "      <td>3222</td>\n",
       "      <td>7337</td>\n",
       "      <td>11754</td>\n",
       "      <td>11146</td>\n",
       "      <td>24334</td>\n",
       "    </tr>\n",
       "    <tr>\n",
       "      <td>4</td>\n",
       "      <td>154479</td>\n",
       "      <td>2923</td>\n",
       "      <td>7922</td>\n",
       "      <td>16719</td>\n",
       "      <td>15898</td>\n",
       "      <td>62319</td>\n",
       "    </tr>\n",
       "    <tr>\n",
       "      <td>5</td>\n",
       "      <td>453411</td>\n",
       "      <td>7801</td>\n",
       "      <td>19485</td>\n",
       "      <td>42018</td>\n",
       "      <td>37648</td>\n",
       "      <td>149407</td>\n",
       "    </tr>\n",
       "  </tbody>\n",
       "</table>\n",
       "</div>"
      ],
      "text/plain": [
       "helpful_range   Empty  0-20%  20-40%  40-60%  60-80%  80-100%\n",
       "overall                                                      \n",
       "1               54736  14151   16483   19412   18794    29264\n",
       "2               34276   3621    6858    9498    8991    14269\n",
       "3               66577   3222    7337   11754   11146    24334\n",
       "4              154479   2923    7922   16719   15898    62319\n",
       "5              453411   7801   19485   42018   37648   149407"
      ]
     },
     "execution_count": 28,
     "metadata": {},
     "output_type": "execute_result"
    }
   ],
   "source": [
    "df_new=reviews.groupby(['overall','helpful_range']).agg({'id':'count'})\n",
    "df_new=df_new.unstack()\n",
    "df_new.columns=df_new.columns.get_level_values(1)\n",
    "df_new"
   ]
  },
  {
   "cell_type": "code",
   "execution_count": 36,
   "metadata": {},
   "outputs": [
    {
     "data": {
      "text/html": [
       "<div>\n",
       "<style scoped>\n",
       "    .dataframe tbody tr th:only-of-type {\n",
       "        vertical-align: middle;\n",
       "    }\n",
       "\n",
       "    .dataframe tbody tr th {\n",
       "        vertical-align: top;\n",
       "    }\n",
       "\n",
       "    .dataframe thead th {\n",
       "        text-align: right;\n",
       "    }\n",
       "</style>\n",
       "<table border=\"1\" class=\"dataframe\">\n",
       "  <thead>\n",
       "    <tr style=\"text-align: right;\">\n",
       "      <th>overall</th>\n",
       "      <th>1</th>\n",
       "      <th>2</th>\n",
       "      <th>3</th>\n",
       "      <th>4</th>\n",
       "      <th>5</th>\n",
       "    </tr>\n",
       "    <tr>\n",
       "      <th>helpful_range</th>\n",
       "      <th></th>\n",
       "      <th></th>\n",
       "      <th></th>\n",
       "      <th></th>\n",
       "      <th></th>\n",
       "    </tr>\n",
       "  </thead>\n",
       "  <tbody>\n",
       "    <tr>\n",
       "      <td>80-100%</td>\n",
       "      <td>29264</td>\n",
       "      <td>14269</td>\n",
       "      <td>24334</td>\n",
       "      <td>62319</td>\n",
       "      <td>149407</td>\n",
       "    </tr>\n",
       "    <tr>\n",
       "      <td>60-80%</td>\n",
       "      <td>18794</td>\n",
       "      <td>8991</td>\n",
       "      <td>11146</td>\n",
       "      <td>15898</td>\n",
       "      <td>37648</td>\n",
       "    </tr>\n",
       "    <tr>\n",
       "      <td>40-60%</td>\n",
       "      <td>19412</td>\n",
       "      <td>9498</td>\n",
       "      <td>11754</td>\n",
       "      <td>16719</td>\n",
       "      <td>42018</td>\n",
       "    </tr>\n",
       "    <tr>\n",
       "      <td>20-40%</td>\n",
       "      <td>16483</td>\n",
       "      <td>6858</td>\n",
       "      <td>7337</td>\n",
       "      <td>7922</td>\n",
       "      <td>19485</td>\n",
       "    </tr>\n",
       "    <tr>\n",
       "      <td>0-20%</td>\n",
       "      <td>14151</td>\n",
       "      <td>3621</td>\n",
       "      <td>3222</td>\n",
       "      <td>2923</td>\n",
       "      <td>7801</td>\n",
       "    </tr>\n",
       "    <tr>\n",
       "      <td>Empty</td>\n",
       "      <td>54736</td>\n",
       "      <td>34276</td>\n",
       "      <td>66577</td>\n",
       "      <td>154479</td>\n",
       "      <td>453411</td>\n",
       "    </tr>\n",
       "  </tbody>\n",
       "</table>\n",
       "</div>"
      ],
      "text/plain": [
       "overall            1      2      3       4       5\n",
       "helpful_range                                     \n",
       "80-100%        29264  14269  24334   62319  149407\n",
       "60-80%         18794   8991  11146   15898   37648\n",
       "40-60%         19412   9498  11754   16719   42018\n",
       "20-40%         16483   6858   7337    7922   19485\n",
       "0-20%          14151   3621   3222    2923    7801\n",
       "Empty          54736  34276  66577  154479  453411"
      ]
     },
     "execution_count": 36,
     "metadata": {},
     "output_type": "execute_result"
    }
   ],
   "source": [
    "df_new[df_new.columns[::-1]].T"
   ]
  },
  {
   "cell_type": "code",
   "execution_count": 33,
   "metadata": {},
   "outputs": [
    {
     "data": {
      "image/png": "[encoded data removed]",
      "text/plain": [
       "<Figure size 1080x720 with 2 Axes>"
      ]
     },
     "metadata": {
      "needs_background": "light"
     },
     "output_type": "display_data"
    }
   ],
   "source": [
    "fig = plt.figure(figsize=(15,10))\n",
    "\n",
    "sns.heatmap(df_new[df_new.columns[::-1]].T, cmap = 'YlGnBu', linewidths=.5, annot = True, fmt = 'd', cbar_kws={'label': '# reviews'})\n",
    "plt.yticks(rotation=0)\n",
    "plt.title('Helpfulness range and user score')\n",
    "plt.show()"
   ]
  },
  {
   "cell_type": "code",
   "execution_count": 37,
   "metadata": {},
   "outputs": [],
   "source": [
    "df_nothree=reviews[reviews['overall']!=3]\n",
    "X=df_nothree['reviewText']\n",
    "y_dict={1:0, 2:0, 4:1, 5:1}\n",
    "y=df_nothree['overall'].map(y_dict)"
   ]
  },
  {
   "cell_type": "code",
   "execution_count": 41,
   "metadata": {},
   "outputs": [
    {
     "name": "stdout",
     "output_type": "stream",
     "text": [
      "features: 422247\n",
      "train records: 840268\n",
      "test records: 360115\n"
     ]
    },
    {
     "name": "stderr",
     "output_type": "stream",
     "text": [
      "C:\\ProgramData\\Anaconda3\\lib\\site-packages\\sklearn\\linear_model\\logistic.py:432: FutureWarning: Default solver will be changed to 'lbfgs' in 0.22. Specify a solver to silence this warning.\n",
      "  FutureWarning)\n"
     ]
    },
    {
     "name": "stdout",
     "output_type": "stream",
     "text": [
      "Model Accuracy: 0.9203782125154465\n"
     ]
    },
    {
     "name": "stderr",
     "output_type": "stream",
     "text": [
      "C:\\ProgramData\\Anaconda3\\lib\\site-packages\\sklearn\\svm\\base.py:929: ConvergenceWarning: Liblinear failed to converge, increase the number of iterations.\n",
      "  \"the number of iterations.\", ConvergenceWarning)\n"
     ]
    }
   ],
   "source": [
    "c=CountVectorizer(stop_words='english')\n",
    "model_l=LogisticRegression()\n",
    "X_cv=c.fit_transform(X)\n",
    "print('features: {}'.format(X_cv.shape[1]))\n",
    "X_train,X_test,y_train,y_test=train_test_split(X_cv,y,test_size=0.3,random_state=0)\n",
    "print('train records: {}'.format(X_train.shape[0]))\n",
    "print('test records: {}'.format(X_test.shape[0]))\n",
    "clf=model_l.fit(X_train,y_train)\n",
    "acc=clf.score(X_test,y_test)\n",
    "print('Model Accuracy: {}'.format(acc))"
   ]
  },
  {
   "cell_type": "code",
   "execution_count": 44,
   "metadata": {},
   "outputs": [
    {
     "name": "stdout",
     "output_type": "stream",
     "text": [
      "Top 30 positive words\n",
      "       Word  Coefficient\n",
      "  skeptical     2.219839\n",
      "  addicting     2.066313\n",
      "   excelent     2.061320\n",
      "  addictive     2.025926\n",
      "     haters     2.008936\n",
      " pleasantly     1.969017\n",
      "  excelente     1.843403\n",
      " refreshing     1.739921\n",
      "   exceeded     1.729134\n",
      "  downsides     1.727235\n",
      "   downside     1.726293\n",
      "    coolest     1.699326\n",
      "       haha     1.640754\n",
      "      loves     1.636942\n",
      "   hesitate     1.632001\n",
      " flawlessly     1.628052\n",
      "    pleased     1.621735\n",
      "      voila     1.607824\n",
      "    regrets     1.592564\n",
      "     gripes     1.540254\n",
      "       buen     1.534686\n",
      "     enjoys     1.533204\n",
      "     awsome     1.493727\n",
      "    funnest     1.485978\n",
      "   argument     1.482861\n",
      "     shines     1.480239\n",
      "      quell     1.462834\n",
      "    awesome     1.451545\n",
      "        tad     1.432799\n",
      " phenomenal     1.412890\n",
      " \n",
      "Top 30 negative words\n",
      "           Word  Coefficient\n",
      "          awful    -1.615324\n",
      "        garbage    -1.618214\n",
      "       horrible    -1.619401\n",
      "    unenjoyable    -1.621449\n",
      "  disapointment    -1.649180\n",
      "           wast    -1.651656\n",
      "   unresponsive    -1.658112\n",
      "      returning    -1.661587\n",
      "       terrible    -1.672142\n",
      "            dud    -1.675540\n",
      "        rubbish    -1.682160\n",
      "    unimpressed    -1.682377\n",
      "     unplayable    -1.722040\n",
      "         poorly    -1.726354\n",
      " dissapointment    -1.743416\n",
      "       minority    -1.759339\n",
      "  uninteresting    -1.768511\n",
      "         ruined    -1.790509\n",
      "            pos    -1.802940\n",
      "    abomination    -1.817036\n",
      "          waste    -1.829959\n",
      "    aggravation    -1.853419\n",
      "  disappointing    -1.862895\n",
      "   unacceptable    -1.953725\n",
      "    uninstalled    -1.991734\n",
      "          worst    -2.017027\n",
      "      worthless    -2.040519\n",
      " disappointment    -2.079563\n",
      "       unusable    -2.090130\n",
      "   dissatisfied    -2.404440\n"
     ]
    }
   ],
   "source": [
    "w=c.get_feature_names()\n",
    "coef=clf.coef_.tolist()[0]\n",
    "coef_df=pd.DataFrame({'Word':w,'Coefficient':coef})\n",
    "coef_df=coef_df.sort_values(['Coefficient','Word'],ascending=[0,1])\n",
    "print('Top 30 positive words')\n",
    "print(coef_df.head(30).to_string(index=False))\n",
    "print(' ')\n",
    "print('Top 30 negative words')\n",
    "print(coef_df.tail(30).to_string(index=False))"
   ]
  },
  {
   "cell_type": "code",
   "execution_count": 48,
   "metadata": {},
   "outputs": [],
   "source": [
    "tfidf=TfidfVectorizer(stop_words='english')\n",
    "def model_run(X,y,word_model,model,coef_show=1):\n",
    "    X_cv1=word_model.fit_transform(X)\n",
    "    print('features: {}'.format(X_cv1.shape[1]))\n",
    "    X_train,X_test,y_train,y_test=train_test_split(X_cv1,y,test_size=0.3,random_state=0)\n",
    "    print('train records: {}'.format(X_train.shape[0]))\n",
    "    print('test records: {}'.format(X_test.shape[0]))\n",
    "    clf=model.fit(X_train,y_train)\n",
    "    acc=clf.score(X_test,y_test)\n",
    "    print('Model Accuracy: {}'.format(acc))\n",
    "    \n",
    "    if coef_show==1:\n",
    "        w1=word_model.get_feature_names()\n",
    "        coef1=clf.coef_.tolist()[0]\n",
    "        coef_df=pd.DataFrame({'Word':w1,'Coefficient':coef1})\n",
    "        coef_df=coef_df.sort_values(['Coefficient','Word'],ascending=[0,1])\n",
    "        print('Top 30 positive words')\n",
    "        print(coef_df.head(30).to_string(index=False))\n",
    "        print(' ')\n",
    "        print('Top 30 negative words')\n",
    "        print(coef_df.tail(30).to_string(index=False))"
   ]
  },
  {
   "cell_type": "code",
   "execution_count": 49,
   "metadata": {},
   "outputs": [
    {
     "name": "stdout",
     "output_type": "stream",
     "text": [
      "features: 422247\n",
      "train records: 840268\n",
      "test records: 360115\n"
     ]
    },
    {
     "name": "stderr",
     "output_type": "stream",
     "text": [
      "C:\\ProgramData\\Anaconda3\\lib\\site-packages\\sklearn\\linear_model\\logistic.py:432: FutureWarning: Default solver will be changed to 'lbfgs' in 0.22. Specify a solver to silence this warning.\n",
      "  FutureWarning)\n"
     ]
    },
    {
     "name": "stdout",
     "output_type": "stream",
     "text": [
      "Model Accuracy: 0.9241686683420574\n",
      "Top 30 positive words\n",
      "       Word  Coefficient\n",
      "      great    13.678372\n",
      "       best    11.299190\n",
      "    awesome    10.966474\n",
      "       love    10.900918\n",
      "    amazing    10.882365\n",
      "    perfect     9.934785\n",
      "  excellent     9.565053\n",
      "  addictive     9.335809\n",
      "  addicting     8.419685\n",
      "      loves     8.172002\n",
      "     highly     7.978046\n",
      "  perfectly     7.879109\n",
      "  fantastic     7.607055\n",
      "  complaint     7.513623\n",
      "      blast     7.277319\n",
      "   downside     7.253414\n",
      "        fun     7.095632\n",
      "  skeptical     6.679184\n",
      "   favorite     6.653011\n",
      "    pleased     6.323973\n",
      " complaints     6.064180\n",
      "      solid     6.059052\n",
      "      rocks     6.008466\n",
      "    worried     5.942034\n",
      "      worry     5.938018\n",
      "      helps     5.922453\n",
      " incredible     5.769399\n",
      "     awsome     5.747981\n",
      " flawlessly     5.675768\n",
      "  wonderful     5.558174\n",
      " \n",
      "Top 30 negative words\n",
      "           Word  Coefficient\n",
      "       pathetic    -6.084679\n",
      "           lame    -6.287320\n",
      "          sucks    -6.316608\n",
      "       unusable    -6.353739\n",
      "       mediocre    -6.462203\n",
      "         refund    -6.528035\n",
      "         return    -6.562683\n",
      "           joke    -6.581612\n",
      "    uninstalled    -6.592097\n",
      "         ruined    -6.661685\n",
      "           junk    -6.710710\n",
      "       returned    -6.760455\n",
      "      returning    -7.131007\n",
      "   disappointed    -7.315327\n",
      "     unplayable    -7.368529\n",
      "   unacceptable    -7.421675\n",
      "        useless    -7.558284\n",
      "      worthless    -7.628619\n",
      "        garbage    -7.938680\n",
      "          worse    -8.437115\n",
      "          awful    -8.625782\n",
      "         poorly    -8.657391\n",
      "         boring    -8.678442\n",
      "           poor    -8.708319\n",
      "  disappointing    -8.826950\n",
      "          waste    -9.391383\n",
      "       horrible    -9.575052\n",
      "       terrible    -9.884644\n",
      " disappointment    -9.971919\n",
      "          worst   -12.657084\n"
     ]
    }
   ],
   "source": [
    "model_run(X,y,tfidf,LogisticRegression())"
   ]
  },
  {
   "cell_type": "code",
   "execution_count": 50,
   "metadata": {},
   "outputs": [
    {
     "name": "stdout",
     "output_type": "stream",
     "text": [
      "features: 14581220\n",
      "train records: 840268\n",
      "test records: 360115\n"
     ]
    },
    {
     "name": "stderr",
     "output_type": "stream",
     "text": [
      "C:\\ProgramData\\Anaconda3\\lib\\site-packages\\sklearn\\linear_model\\logistic.py:432: FutureWarning: Default solver will be changed to 'lbfgs' in 0.22. Specify a solver to silence this warning.\n",
      "  FutureWarning)\n"
     ]
    },
    {
     "name": "stdout",
     "output_type": "stream",
     "text": [
      "Model Accuracy: 0.9288977132304959\n",
      "Top 30 positive words\n",
      "             Word  Coefficient\n",
      "            great    22.198859\n",
      "             best    18.250293\n",
      "             love    18.216002\n",
      "          awesome    17.257038\n",
      "          amazing    16.403237\n",
      "          perfect    15.419000\n",
      "        excellent    14.365473\n",
      "            loves    12.771728\n",
      "              fun    11.398143\n",
      "        addictive    11.393579\n",
      "        perfectly    10.667905\n",
      "        fantastic    10.595874\n",
      "         favorite    10.220678\n",
      "        complaint     9.888761\n",
      "        addicting     9.564592\n",
      "              bit     9.333664\n",
      "            blast     9.180839\n",
      "          pleased     9.093483\n",
      "           highly     8.732899\n",
      "             easy     8.721535\n",
      "            solid     8.541865\n",
      "            works     8.387216\n",
      " highly recommend     8.085953\n",
      "         downside     8.077719\n",
      " won disappointed     8.056288\n",
      "       definitely     8.040685\n",
      "            happy     7.959895\n",
      "             glad     7.903906\n",
      "            helps     7.898879\n",
      "       complaints     7.895777\n",
      " \n",
      "Top 30 negative words\n",
      "           Word  Coefficient\n",
      "             ea    -9.144197\n",
      "           joke    -9.157476\n",
      "    frustrating    -9.164328\n",
      "           lame    -9.177565\n",
      "         ruined    -9.203195\n",
      "     impossible    -9.252010\n",
      "          tried    -9.260826\n",
      "  unfortunately    -9.304933\n",
      "           junk    -9.509877\n",
      "      worthless    -9.602311\n",
      "      returning    -9.886444\n",
      "          sucks   -10.079413\n",
      "     unplayable   -10.102265\n",
      "       returned   -10.415625\n",
      "         refund   -10.456771\n",
      "        garbage   -11.202101\n",
      "         return   -11.222454\n",
      "        useless   -11.818077\n",
      "         poorly   -11.969326\n",
      "          awful   -12.727517\n",
      "          waste   -12.776661\n",
      "          worse   -13.262637\n",
      "   disappointed   -13.609647\n",
      "  disappointing   -13.818896\n",
      "           poor   -14.368326\n",
      " disappointment   -14.421958\n",
      "       horrible   -15.564503\n",
      "         boring   -15.701877\n",
      "       terrible   -16.290113\n",
      "          worst   -19.660050\n"
     ]
    }
   ],
   "source": [
    "tfidf_n = TfidfVectorizer(ngram_range=(1,2),stop_words = 'english')\n",
    "model_run(X, y, tfidf_n, LogisticRegression())"
   ]
  },
  {
   "cell_type": "code",
   "execution_count": 51,
   "metadata": {},
   "outputs": [
    {
     "data": {
      "text/plain": [
       "(214341, 14)"
      ]
     },
     "execution_count": 51,
     "metadata": {},
     "output_type": "execute_result"
    }
   ],
   "source": [
    "df = df_nothree[df_nothree['overall'] == 5]\n",
    "df = df[df['helpful_range'].isin(['0-20%', '20-40%', '60-80%', '80-100%'])]\n",
    "df.shape"
   ]
  },
  {
   "cell_type": "code",
   "execution_count": 52,
   "metadata": {},
   "outputs": [
    {
     "name": "stdout",
     "output_type": "stream",
     "text": [
      "Class distribution:\n",
      "1.0    187055\n",
      "0.0     27286\n",
      "Name: helpful_range, dtype: int64\n"
     ]
    }
   ],
   "source": [
    "X=df['reviewText']\n",
    "y_dict={'0-20%': 0, '20-40%': 0, '60-80%': 1, '80-100%': 1}\n",
    "y = df['helpful_range'].map(y_dict)\n",
    "\n",
    "print('Class distribution:')\n",
    "print(y.value_counts())"
   ]
  },
  {
   "cell_type": "code",
   "execution_count": 54,
   "metadata": {},
   "outputs": [
    {
     "data": {
      "text/html": [
       "<div>\n",
       "<style scoped>\n",
       "    .dataframe tbody tr th:only-of-type {\n",
       "        vertical-align: middle;\n",
       "    }\n",
       "\n",
       "    .dataframe tbody tr th {\n",
       "        vertical-align: top;\n",
       "    }\n",
       "\n",
       "    .dataframe thead th {\n",
       "        text-align: right;\n",
       "    }\n",
       "</style>\n",
       "<table border=\"1\" class=\"dataframe\">\n",
       "  <thead>\n",
       "    <tr style=\"text-align: right;\">\n",
       "      <th></th>\n",
       "      <th>reviewText</th>\n",
       "      <th>helpful_range</th>\n",
       "    </tr>\n",
       "  </thead>\n",
       "  <tbody>\n",
       "    <tr>\n",
       "      <td>0</td>\n",
       "      <td>I haven't gotten around to playing the campaig...</td>\n",
       "      <td>1</td>\n",
       "    </tr>\n",
       "    <tr>\n",
       "      <td>12</td>\n",
       "      <td>Such fast shipping, games is such great condit...</td>\n",
       "      <td>1</td>\n",
       "    </tr>\n",
       "    <tr>\n",
       "      <td>15</td>\n",
       "      <td>My son who hates doing math loves to play this...</td>\n",
       "      <td>1</td>\n",
       "    </tr>\n",
       "    <tr>\n",
       "      <td>16</td>\n",
       "      <td>My seven year old has had a lot of fun with th...</td>\n",
       "      <td>1</td>\n",
       "    </tr>\n",
       "    <tr>\n",
       "      <td>32</td>\n",
       "      <td>I had this game as a kid in the 90s and played...</td>\n",
       "      <td>1</td>\n",
       "    </tr>\n",
       "  </tbody>\n",
       "</table>\n",
       "</div>"
      ],
      "text/plain": [
       "                                           reviewText helpful_range\n",
       "0   I haven't gotten around to playing the campaig...             1\n",
       "12  Such fast shipping, games is such great condit...             1\n",
       "15  My son who hates doing math loves to play this...             1\n",
       "16  My seven year old has had a lot of fun with th...             1\n",
       "32  I had this game as a kid in the 90s and played...             1"
      ]
     },
     "execution_count": 54,
     "metadata": {},
     "output_type": "execute_result"
    }
   ],
   "source": [
    "df_s=pd.DataFrame(data=[X,y]).T\n",
    "df_s.head()"
   ]
  },
  {
   "cell_type": "code",
   "execution_count": 58,
   "metadata": {},
   "outputs": [
    {
     "data": {
      "text/plain": [
       "27286"
      ]
     },
     "execution_count": 58,
     "metadata": {},
     "output_type": "execute_result"
    }
   ],
   "source": [
    "negative_records=len(df_s[df_s['helpful_range']==0])\n",
    "negative_indices=np.array(df_s[df_s['helpful_range']==0].index)\n",
    "negative_records"
   ]
  },
  {
   "cell_type": "code",
   "execution_count": 56,
   "metadata": {},
   "outputs": [
    {
     "data": {
      "text/plain": [
       "Int64Index([      0,      12,      15,      16,      32,      45,      56,\n",
       "                 66,      76,      77,\n",
       "            ...\n",
       "            1324716, 1324720, 1324721, 1324722, 1324723, 1324725, 1324741,\n",
       "            1324742, 1324745, 1324749],\n",
       "           dtype='int64', length=187055)"
      ]
     },
     "execution_count": 56,
     "metadata": {},
     "output_type": "execute_result"
    }
   ],
   "source": [
    "positive_indices=df_s[df_s['helpful_range']==1].index\n",
    "positive_indices"
   ]
  },
  {
   "cell_type": "code",
   "execution_count": 59,
   "metadata": {},
   "outputs": [
    {
     "data": {
      "text/plain": [
       "array([ 426616,  366087, 1214205, ...,  707665, 1042394,  861246],\n",
       "      dtype=int64)"
      ]
     },
     "execution_count": 59,
     "metadata": {},
     "output_type": "execute_result"
    }
   ],
   "source": [
    "random_positive_indices=np.random.choice(positive_indices,negative_records,replace=False)\n",
    "random_positive_indices=np.array(random_positive_indices)\n",
    "random_positive_indices"
   ]
  },
  {
   "cell_type": "code",
   "execution_count": 60,
   "metadata": {},
   "outputs": [],
   "source": [
    "under_sample_indices=np.concatenate([negative_indices,random_positive_indices])"
   ]
  },
  {
   "cell_type": "code",
   "execution_count": 61,
   "metadata": {},
   "outputs": [],
   "source": [
    "sample_data=df_s.loc[under_sample_indices,:]\n",
    "X_u=sample_data['reviewText']\n",
    "sample_data['helpful_range']=sample_data['helpful_range'].astype(int)\n",
    "y_u=sample_data['helpful_range']"
   ]
  },
  {
   "cell_type": "code",
   "execution_count": 62,
   "metadata": {},
   "outputs": [
    {
     "name": "stdout",
     "output_type": "stream",
     "text": [
      "positive review percentage:  0.5\n",
      "negative review percentage:  0.5\n",
      "Total review number:  54572\n"
     ]
    }
   ],
   "source": [
    "print(\"positive review percentage: \",len(sample_data[sample_data['helpful_range']==1])/len(sample_data))\n",
    "print(\"negative review percentage: \",len(sample_data[sample_data['helpful_range']==0])/len(sample_data))\n",
    "print(\"Total review number: \",len(sample_data))"
   ]
  },
  {
   "cell_type": "code",
   "execution_count": 63,
   "metadata": {},
   "outputs": [
    {
     "name": "stdout",
     "output_type": "stream",
     "text": [
      "features: 87801\n",
      "train records: 38200\n",
      "test records: 16372\n"
     ]
    },
    {
     "name": "stderr",
     "output_type": "stream",
     "text": [
      "C:\\ProgramData\\Anaconda3\\lib\\site-packages\\sklearn\\linear_model\\logistic.py:432: FutureWarning: Default solver will be changed to 'lbfgs' in 0.22. Specify a solver to silence this warning.\n",
      "  FutureWarning)\n"
     ]
    },
    {
     "name": "stdout",
     "output_type": "stream",
     "text": [
      "Model Accuracy: 0.6798192035182018\n",
      "Top 30 positive words\n",
      "          Word  Coefficient\n",
      "         bingo     2.249250\n",
      "        steady     1.822282\n",
      "   comparisons     1.710500\n",
      "   unstoppable     1.706987\n",
      "         miles     1.577343\n",
      "           oem     1.558674\n",
      " substantially     1.540843\n",
      "       minions     1.479852\n",
      "      combines     1.446704\n",
      "         raved     1.435238\n",
      "        syphon     1.404716\n",
      "      vampires     1.397267\n",
      "       penguin     1.374984\n",
      "        taunts     1.374378\n",
      "      employed     1.338925\n",
      "       contain     1.334832\n",
      "        ported     1.333189\n",
      "        minion     1.331719\n",
      "         risks     1.331424\n",
      "    dictionary     1.328141\n",
      "         genie     1.320728\n",
      "    recognized     1.305275\n",
      "  resurrection     1.304995\n",
      "       proceed     1.302231\n",
      "   communicate     1.293251\n",
      "        resort     1.289874\n",
      "      receives     1.287374\n",
      "   differences     1.281422\n",
      "       surfing     1.272062\n",
      "         parry     1.259701\n",
      " \n",
      "Top 30 negative words\n",
      "       Word  Coefficient\n",
      "   leappad2    -1.268183\n",
      "   smallest    -1.268983\n",
      "     elites    -1.269928\n",
      " proportion    -1.275830\n",
      "       meka    -1.276041\n",
      "        xmb    -1.282236\n",
      "     reused    -1.291666\n",
      "   overheat    -1.295823\n",
      "      jesus    -1.312992\n",
      "       21st    -1.319224\n",
      "       noon    -1.335772\n",
      "      verry    -1.338705\n",
      "        8gb    -1.347110\n",
      "       lift    -1.352352\n",
      "     uneven    -1.354392\n",
      "     haters    -1.374479\n",
      " companions    -1.376456\n",
      "    auction    -1.399098\n",
      "   psynergy    -1.431059\n",
      "     idiots    -1.438637\n",
      "        est    -1.441083\n",
      "   drooling    -1.470581\n",
      "     zeroes    -1.477972\n",
      "      loser    -1.548395\n",
      "  moonstone    -1.550085\n",
      "   shocking    -1.567588\n",
      "   playroom    -1.627600\n",
      "   achieved    -1.684740\n",
      "      spore    -1.745685\n",
      "      valve    -1.766918\n"
     ]
    }
   ],
   "source": [
    "c = CountVectorizer(stop_words = 'english')\n",
    "\n",
    "model_run(X_u, y_u, c, LogisticRegression())"
   ]
  },
  {
   "cell_type": "code",
   "execution_count": 65,
   "metadata": {},
   "outputs": [
    {
     "name": "stdout",
     "output_type": "stream",
     "text": [
      "features: 1795571\n",
      "train records: 38200\n",
      "test records: 16372\n"
     ]
    },
    {
     "name": "stderr",
     "output_type": "stream",
     "text": [
      "C:\\ProgramData\\Anaconda3\\lib\\site-packages\\sklearn\\linear_model\\logistic.py:432: FutureWarning: Default solver will be changed to 'lbfgs' in 0.22. Specify a solver to silence this warning.\n",
      "  FutureWarning)\n"
     ]
    },
    {
     "name": "stdout",
     "output_type": "stream",
     "text": [
      "Model Accuracy: 0.7144515025653555\n",
      "Top 30 positive words\n",
      "        Word  Coefficient\n",
      "     puzzles     4.324801\n",
      "       music     3.955455\n",
      "        easy     3.903031\n",
      "       works     3.593302\n",
      "       games     3.398489\n",
      "         old     3.212589\n",
      "      levels     3.063150\n",
      "   recommend     2.882024\n",
      " controllers     2.830275\n",
      "         fit     2.808938\n",
      "       songs     2.717622\n",
      "    year old     2.684372\n",
      "   different     2.604325\n",
      "         wii     2.572074\n",
      "        case     2.550473\n",
      "      kindle     2.521128\n",
      "       price     2.520565\n",
      "          ds     2.513637\n",
      " challenging     2.484374\n",
      "         app     2.472413\n",
      "       using     2.463101\n",
      "      simple     2.440919\n",
      "    keyboard     2.410059\n",
      "    daughter     2.409487\n",
      "      puzzle     2.379399\n",
      "   difficult     2.365839\n",
      "       cable     2.365146\n",
      "     product     2.344076\n",
      "        quot     2.321645\n",
      "     workout     2.318439\n",
      " \n",
      "Top 30 negative words\n",
      "        Word  Coefficient\n",
      "         pre    -2.055775\n",
      "         cod    -2.060455\n",
      "          ok    -2.126606\n",
      "          ur    -2.142692\n",
      " complaining    -2.196881\n",
      "   starcraft    -2.210689\n",
      "        know    -2.338497\n",
      "      server    -2.385015\n",
      "          im    -2.398638\n",
      "     bioware    -2.438514\n",
      "       gonna    -2.474949\n",
      "        mass    -2.475303\n",
      " mass effect    -2.476923\n",
      "      issues    -2.515790\n",
      "       spore    -2.538235\n",
      "        dont    -2.591447\n",
      "      review    -2.654739\n",
      "      diablo    -2.674479\n",
      "         wow    -2.716333\n",
      "      madden    -2.733200\n",
      "       thats    -2.840246\n",
      "         drm    -2.869804\n",
      "        star    -2.881864\n",
      "        wait    -2.892001\n",
      "       going    -2.949972\n",
      "      launch    -2.978807\n",
      "         mmo    -3.002058\n",
      "      ending    -3.463194\n",
      "      people    -3.525390\n",
      "    blizzard    -3.691136\n"
     ]
    }
   ],
   "source": [
    "tfidf_n = TfidfVectorizer(ngram_range=(1,2),stop_words = 'english')\n",
    "\n",
    "model_run(X_u, y_u, tfidf_n, LogisticRegression())"
   ]
  },
  {
   "cell_type": "code",
   "execution_count": 66,
   "metadata": {},
   "outputs": [
    {
     "name": "stdout",
     "output_type": "stream",
     "text": [
      "Negative vote 5 comments: \n",
      "86      I can&#8217;t stop playing my wife is going to...\n",
      "1893    Ok, I just finished reading most of the review...\n",
      "3209    One of the best games ever. A must get game. G...\n",
      "3927    well it is took a great deal of thought but al...\n",
      "6030    Sonic Heroes will be EXTREMELY AWESOME!!!!!!!!...\n",
      "Name: reviewText, dtype: object\n",
      "Positive vote 5 comments: \n",
      "426616     this game is the best to me and it got here re...\n",
      "232434     I am totally addicted to this game! I cannot i...\n",
      "1158885    If you want a strategy game for the 3DS, this ...\n",
      "360317     Don't mind the garish review title, but this g...\n",
      "167610     I played a demo of this game and it is alot of...\n",
      "Name: reviewText, dtype: object\n"
     ]
    }
   ],
   "source": [
    "print(\"Negative vote 5 comments: \")\n",
    "print(sample_data[sample_data['helpful_range']==0]['reviewText'].iloc[:100:20])\n",
    "print(\"Positive vote 5 comments: \")\n",
    "print(sample_data[sample_data['helpful_range']==1]['reviewText'].iloc[:100:20])"
   ]
  },
  {
   "cell_type": "code",
   "execution_count": 69,
   "metadata": {},
   "outputs": [
    {
     "name": "stdout",
     "output_type": "stream",
     "text": [
      "helpful_range              0           1\n",
      "word_count        105.661548  167.208495\n",
      "capital_count      25.204574   28.503995\n",
      "question_mark       0.189255    0.194129\n",
      "exclamation_mark    1.491461    1.175218\n",
      "punctuation        17.970901   28.416551\n"
     ]
    }
   ],
   "source": [
    "sample_data['word_count']=sample_data['reviewText'].apply(lambda x: len(x.split()))\n",
    "sample_data['capital_count']=sample_data['reviewText'].apply(lambda x: sum(1 for c in x if c.isupper()))\n",
    "sample_data['question_mark']=sample_data['reviewText'].apply(lambda x: sum(1 for c in x if c=='?'))\n",
    "sample_data['exclamation_mark']=sample_data['reviewText'].apply(lambda x: sum(1 for c in x if c=='!'))\n",
    "sample_data['punctuation']=sample_data['reviewText'].apply(lambda x: sum(1 for c in x if c in string.punctuation))\n",
    "\n",
    "print(sample_data.groupby('helpful_range').agg({'word_count': 'mean', 'capital_count': 'mean', 'question_mark': 'mean', 'exclamation_mark': 'mean', 'punctuation': 'mean'}).T)\n",
    "\n",
    "X_num = sample_data[sample_data.columns.difference(['helpful_range', 'reviewText'])]\n",
    "y_num = sample_data['helpful_range']"
   ]
  },
  {
   "cell_type": "code",
   "execution_count": 75,
   "metadata": {
    "scrolled": true
   },
   "outputs": [
    {
     "name": "stderr",
     "output_type": "stream",
     "text": [
      "C:\\ProgramData\\Anaconda3\\lib\\site-packages\\sklearn\\linear_model\\logistic.py:432: FutureWarning: Default solver will be changed to 'lbfgs' in 0.22. Specify a solver to silence this warning.\n",
      "  FutureWarning)\n",
      "C:\\ProgramData\\Anaconda3\\lib\\site-packages\\sklearn\\svm\\base.py:193: FutureWarning: The default value of gamma will change from 'auto' to 'scale' in version 0.22 to account better for unscaled features. Set gamma explicitly to 'auto' or 'scale' to avoid this warning.\n",
      "  \"avoid this warning.\", FutureWarning)\n"
     ]
    },
    {
     "name": "stdout",
     "output_type": "stream",
     "text": [
      "Logistic Regression accuracy: 0.5890200102616726\n",
      "SVM accuracy: 0.554936597522539\n"
     ]
    }
   ],
   "source": [
    "X_train, X_test, y_train, y_test = train_test_split(X_num, y_num, random_state=0)\n",
    "\n",
    "clf_lr = LogisticRegression().fit(X_train, y_train)\n",
    "acc_lr = clf_lr.score(X_test, y_test)\n",
    "print('Logistic Regression accuracy: {}'.format(acc_lr))\n",
    "\n",
    "clf_svm = svm.SVC().fit(X_train, y_train)\n",
    "acc_svm = clf_svm.score(X_test, y_test)\n",
    "print('SVM accuracy: {}'.format(acc_svm))"
   ]
  },
  {
   "cell_type": "code",
   "execution_count": 76,
   "metadata": {},
   "outputs": [
    {
     "name": "stdout",
     "output_type": "stream",
     "text": [
      "                Rating count  Rating mean\n",
      "reviewerID                               \n",
      "A3V6Z4RCDGRC44           880     4.256818\n",
      "A3W4D8XOGLWUN5           817     3.620563\n",
      "AJKWF4W7QD4NS            797     3.614806\n",
      "A2QHS1ZCIQOL7E           521     3.614203\n",
      "A2TCG2HV1VJP6V           474     4.059072\n",
      "A29BQ6B90Y1R5F           429     4.156177\n",
      "AFV2584U13XP3            338     4.514793\n",
      "A20DZX38KRBIT8           320     3.287500\n",
      "A74TA8X5YQ7NE            267     3.722846\n",
      "A2582KMXLK2P06           263     3.463878\n"
     ]
    }
   ],
   "source": [
    "df_user = reviews.groupby(['reviewerID']).agg({'overall':['count', 'mean']})\n",
    "df_user.columns = df_user.columns.get_level_values(1)\n",
    "df_user.columns = ['Rating count', 'Rating mean']\n",
    "df_user = df_user.sort_values(by = 'Rating count', ascending = False)\n",
    "print(df_user.head(10))"
   ]
  },
  {
   "cell_type": "code",
   "execution_count": 77,
   "metadata": {},
   "outputs": [
    {
     "data": {
      "image/png": "[encoded data removed]",
      "text/plain": [
       "<Figure size 1080x720 with 1 Axes>"
      ]
     },
     "metadata": {
      "needs_background": "light"
     },
     "output_type": "display_data"
    }
   ],
   "source": [
    "def plot_user(reviewerID):\n",
    "    df_1user = reviews[reviews['reviewerID'] == reviewerID]['overall']\n",
    "    df_1user_plot = df_1user.value_counts(sort=False)\n",
    "    ax = df_1user_plot.plot(kind = 'bar', figsize = (15,10), title = 'Rating distribution of user {} review'.format(reviews[reviews['reviewerID'] == reviewerID]['reviewerID'].iloc[0]))\n",
    "    plt.show()\n",
    "\n",
    "plot_user('A3V6Z4RCDGRC44')"
   ]
  },
  {
   "cell_type": "code",
   "execution_count": 78,
   "metadata": {},
   "outputs": [
    {
     "data": {
      "image/png": "[encoded data removed]",
      "text/plain": [
       "<Figure size 1080x720 with 1 Axes>"
      ]
     },
     "metadata": {
      "needs_background": "light"
     },
     "output_type": "display_data"
    }
   ],
   "source": [
    "plot_user('A3W4D8XOGLWUN5')"
   ]
  },
  {
   "cell_type": "code",
   "execution_count": 79,
   "metadata": {},
   "outputs": [
    {
     "name": "stdout",
     "output_type": "stream",
     "text": [
      "                Rating count  Rating mean\n",
      "reviewerID                               \n",
      "A20DZX38KRBIT8           320     3.287500\n",
      "A2582KMXLK2P06           263     3.463878\n",
      "ANAYSRE3LX8GZ            210     3.038095\n",
      "A319SKSB556033           209     2.995215\n",
      "A21GTH20R33D6B           191     2.712042\n"
     ]
    }
   ],
   "source": [
    "print(df_user[(df_user['Rating mean']<3.5) & (df_user['Rating mean']>2.5)].head())"
   ]
  },
  {
   "cell_type": "code",
   "execution_count": 80,
   "metadata": {},
   "outputs": [
    {
     "data": {
      "image/png": "[encoded data removed]",
      "text/plain": [
       "<Figure size 1080x720 with 1 Axes>"
      ]
     },
     "metadata": {
      "needs_background": "light"
     },
     "output_type": "display_data"
    }
   ],
   "source": [
    "plot_user('A20DZX38KRBIT8')"
   ]
  },
  {
   "cell_type": "code",
   "execution_count": 14,
   "metadata": {},
   "outputs": [
    {
     "name": "stdout",
     "output_type": "stream",
     "text": [
      "score 1 reviews most popular 2-gram / 3-gram:\n",
      "    Count  Occur %                  Phrase\n",
      "0    28.0  116.67%        (mortal, kombat)\n",
      "1    21.0    87.5%             (mega, man)\n",
      "2    21.0    87.5%           (video, game)\n",
      "3    17.0   70.83%         (wrestle, game)\n",
      "4    14.0   58.33%             (game, n't)\n",
      "5    12.0    50.0%          (mario, bros.)\n",
      "6    12.0    50.0%             (war, zone)\n",
      "7    11.0   45.83%          (super, mario)\n",
      "8    11.0   45.83%          (tomb, raider)\n",
      "9    11.0   45.83%   (super, mario, bros.)\n",
      "10   10.0   41.67%             (n't, even)\n",
      "11    9.0    37.5%        (wwf, war, zone)\n",
      "12    9.0    37.5%              (wwf, war)\n",
      "13    9.0    37.5%      (crash, bandicoot)\n",
      "14    8.0   33.33%          (crappy, game)\n",
      "15    8.0   33.33%            (game, like)\n",
      "16    8.0   33.33%            (make, game)\n",
      "17    8.0   33.33%            (load, time)\n",
      "18    7.0   29.17%            (super, nes)\n",
      "19    7.0   29.17%             (man, game)\n",
      "20    7.0   29.17%           (really, bad)\n",
      "21    7.0   29.17%            (play, game)\n",
      "22    7.0   29.17%         (game, company)\n",
      "23    7.0   29.17%             (sega, fan)\n",
      "24    7.0   29.17%     (playstation, game)\n",
      "25    7.0   29.17%       (mega, man, game)\n",
      "26    6.0    25.0%  (mortal, kombat, game)\n",
      "27    6.0    25.0%         (forest, stage)\n",
      "28    6.0    25.0%           (fight, game)\n",
      "29    6.0    25.0%           (lara, croft)\n",
      "30    6.0    25.0%           (prime, game)\n",
      "31    6.0    25.0%             (buy, game)\n",
      "32    6.0    25.0%          (game, really)\n",
      "33    6.0    25.0%         (game, release)\n",
      "34    6.0    25.0%          (raider, game)\n",
      "35    6.0    25.0%          (kombat, game)\n",
      "36    6.0    25.0%     (game, playstation)\n",
      "37    6.0    25.0%    (tomb, raider, game)\n",
      "score 2 reviews most popular 2-gram / 3-gram:\n",
      "    Count Occur %                  Phrase\n",
      "0    71.0  177.5%          (super, mario)\n",
      "1    33.0   82.5%        (resident, evil)\n",
      "2    33.0   82.5%           (video, game)\n",
      "3    20.0   50.0%         (ocarina, time)\n",
      "4    18.0   45.0%           (mario, game)\n",
      "5    17.0   42.5%             (game, n't)\n",
      "6    17.0   42.5%          (mario, world)\n",
      "7    17.0   42.5%   (super, mario, world)\n",
      "8    17.0   42.5%      (playstation, one)\n",
      "9    17.0   42.5%            (feel, like)\n",
      "10   16.0   40.0%             (n't, even)\n",
      "11   16.0   40.0%            (play, game)\n",
      "12   15.0   37.5%         (mario, galaxy)\n",
      "13   15.0   37.5%           (gear, solid)\n",
      "14   15.0   37.5%           (boss, fight)\n",
      "15   14.0   35.0%  (super, mario, galaxy)\n",
      "16   14.0   35.0%           (metal, gear)\n",
      "17   14.0   35.0%    (metal, gear, solid)\n",
      "18   13.0   32.5%            (link, past)\n",
      "19   13.0   32.5%        (mortal, kombat)\n",
      "20   12.0   30.0%   (super, mario, bros.)\n",
      "21   12.0   30.0%          (mario, bros.)\n",
      "22   12.0   30.0%            (would, n't)\n",
      "23   12.0   30.0%           (zelda, game)\n",
      "24   11.0   27.5%         (game, console)\n",
      "25   10.0   25.0%          (silent, hill)\n",
      "26   10.0   25.0%            (many, time)\n",
      "score 3 reviews most popular 2-gram / 3-gram:\n",
      "   Count Occur %                 Phrase\n",
      "0   56.0  96.55%         (super, mario)\n",
      "1   30.0  51.72%          (video, game)\n",
      "2   29.0   50.0%         (silent, hill)\n",
      "3   28.0  48.28%        (yoshi, island)\n",
      "4   28.0  48.28%          (boss, fight)\n",
      "5   23.0  39.66%         (mario, bros.)\n",
      "6   22.0  37.93%            (game, n't)\n",
      "7   22.0  37.93%           (play, game)\n",
      "8   21.0  36.21%  (super, mario, bros.)\n",
      "9   20.0  34.48%           (super, nes)\n",
      "score 4 reviews most popular 2-gram / 3-gram:\n",
      "    Count Occur %                 Phrase\n",
      "0    71.0  98.61%           (super, nes)\n",
      "1    50.0  69.44%            (mega, man)\n",
      "2    44.0  61.11%         (super, mario)\n",
      "3    42.0  58.33%        (yoshi, island)\n",
      "4    37.0  51.39%  (super, nes, version)\n",
      "5    37.0  51.39%         (nes, version)\n",
      "6    28.0  38.89%           (play, game)\n",
      "7    28.0  38.89%          (boss, fight)\n",
      "8    25.0  34.72%          (video, game)\n",
      "9    23.0  31.94%            (game, n't)\n",
      "10   23.0  31.94%         (mario, bros.)\n",
      "11   21.0  29.17%           (link, past)\n",
      "12   21.0  29.17%  (super, mario, bros.)\n",
      "13   21.0  29.17%         (donkey, kong)\n",
      "14   20.0  27.78%            (n't, know)\n",
      "15   20.0  27.78%     (genesis, version)\n",
      "16   20.0  27.78%         (really, good)\n",
      "17   19.0  26.39%     (crash, bandicoot)\n",
      "18   19.0  26.39%         (even, though)\n",
      "19   18.0   25.0%       (earthworm, jim)\n",
      "20   18.0   25.0%         (dino, crisis)\n",
      "21   18.0   25.0%           (many, time)\n",
      "score 5 reviews most popular 2-gram / 3-gram:\n",
      "    Count  Occur %                    Phrase\n",
      "0    74.0  107.25%               (mega, man)\n",
      "1    65.0    94.2%             (video, game)\n",
      "2    54.0   78.26%          (resident, evil)\n",
      "3    48.0   69.57%              (super, nes)\n",
      "4    33.0   47.83%              (play, game)\n",
      "5    29.0   42.03%              (make, game)\n",
      "6    26.0   37.68%            (medal, honor)\n",
      "7    26.0   37.68%         (symphony, night)\n",
      "8    25.0   36.23%               (game, n't)\n",
      "9    24.0   34.78%            (dino, crisis)\n",
      "10   23.0   33.33%            (man, legends)\n",
      "11   22.0   31.88%      (mega, man, legends)\n",
      "12   22.0   31.88%            (silent, hill)\n",
      "13   21.0   30.43%              (n't, think)\n",
      "14   19.0   27.54%            (nes, version)\n",
      "15   19.0   27.54%            (really, good)\n",
      "16   19.0   27.54%            (evil, series)\n",
      "17   19.0   27.54%  (resident, evil, series)\n",
      "18   18.0   26.09%     (super, nes, version)\n"
     ]
    }
   ],
   "source": [
    "def get_token_ngram(score,benchmark,userid='all'):\n",
    "    if userid !='all':\n",
    "        df=reviews[(reviews['reviewerID'] == userid) & (reviews['overall'] == score)]['reviewText']\n",
    "    else:\n",
    "        df=reviews[reviews['overall'] == score]['reviewText']\n",
    "    count=len(df)\n",
    "    total_text=' '.join(df)\n",
    "    total_text=total_text.lower()\n",
    "    stop=set(stopwords.words('english'))\n",
    "    total_text=nltk.word_tokenize(total_text)\n",
    "    total_text=[word for word in total_text if word not in stop and len(word)>=3]\n",
    "    lemmatizer=WordNetLemmatizer()\n",
    "    total_text=[lemmatizer.lemmatize(w,'v') for w in total_text]\n",
    "    bigrams=ngrams(total_text,2)\n",
    "    trigrams=ngrams(total_text,3)\n",
    "    \n",
    "    combine = chain(bigrams, trigrams)\n",
    "    text = nltk.Text(combine)\n",
    "    fdist = nltk.FreqDist(text)\n",
    "    \n",
    "    return sorted([(w,fdist[w],str(round(fdist[w]/count*100,2))+'%') for w in set(text) if fdist[w] >= count*benchmark], key=lambda x: -x[1])\n",
    "index = ['Phrase', 'Count', 'Occur %']\n",
    "\n",
    "for j in range(1,6):\n",
    "    test = pd.DataFrame()\n",
    "    d = get_token_ngram(j, 0.25, 'A2582KMXLK2P06')\n",
    "    print('score {} reviews most popular 2-gram / 3-gram:'.format(j))\n",
    "    for i in d:\n",
    "        test = test.append(pd.Series(i, index = index), ignore_index = True)\n",
    "    #test = test.sort_values('Count', ascending=False)\n",
    "    print(test)"
   ]
  },
  {
   "cell_type": "code",
   "execution_count": 15,
   "metadata": {},
   "outputs": [],
   "source": [
    "def get_token_adj(score, benchmark, userid='all'):\n",
    "    \n",
    "    if userid != 'all':\n",
    "        df = reviews[(reviews['reviewerID'] == userid) & (reviews['overall'] == score)]['reviewText']\n",
    "    else:\n",
    "        df = reviews[reviews['overall'] == score]['reviewText']\n",
    "        \n",
    "    count = len(df)\n",
    "    total_text = ' '.join(df)\n",
    "    total_text = total_text.lower()\n",
    "    stop = set(stopwords.words('english'))\n",
    "    total_text = nltk.word_tokenize(total_text)\n",
    "    total_text = [word for word in total_text if word not in stop and len(word) >= 3]\n",
    "    lemmatizer = WordNetLemmatizer()\n",
    "    total_text = [lemmatizer.lemmatize(w,'a') for w in total_text]\n",
    "    # get adjective only\n",
    "    total_text = [word for word, form in nltk.pos_tag(total_text) if form == 'JJ']\n",
    "    \n",
    "    text = nltk.Text(total_text)\n",
    "    fdist = nltk.FreqDist(text)\n",
    "    \n",
    "    # return only phrase occurs more than benchmark of his reviews\n",
    "    return sorted([(w,fdist[w],str(round(fdist[w]/count*100,2))+'%') for w in set(text) if fdist[w] >= count*benchmark], key=lambda x: -x[1])"
   ]
  },
  {
   "cell_type": "code",
   "execution_count": 17,
   "metadata": {},
   "outputs": [
    {
     "name": "stderr",
     "output_type": "stream",
     "text": [
      "[nltk_data] Downloading package averaged_perceptron_tagger to\n",
      "[nltk_data]     C:\\Users\\wang1090\\AppData\\Roaming\\nltk_data...\n",
      "[nltk_data]   Unzipping taggers\\averaged_perceptron_tagger.zip.\n"
     ]
    },
    {
     "data": {
      "text/plain": [
       "True"
      ]
     },
     "execution_count": 17,
     "metadata": {},
     "output_type": "execute_result"
    }
   ],
   "source": [
    "import nltk\n",
    "nltk.download('averaged_perceptron_tagger')"
   ]
  },
  {
   "cell_type": "code",
   "execution_count": 19,
   "metadata": {},
   "outputs": [
    {
     "name": "stdout",
     "output_type": "stream",
     "text": [
      "score 1 reviews most popular adjectives word:\n",
      "    Count  Occur %      Phrase\n",
      "0    37.0  154.17%         bad\n",
      "1    34.0  141.67%        good\n",
      "2    25.0  104.17%        many\n",
      "3    24.0   100.0%        sega\n",
      "4    21.0    87.5%      mortal\n",
      "5    21.0    87.5%         big\n",
      "6    18.0    75.0%         new\n",
      "7    18.0    75.0%        mega\n",
      "8    17.0   70.83%        easy\n",
      "9    16.0   66.67%       first\n",
      "10   14.0   58.33%        much\n",
      "11   12.0    50.0%        able\n",
      "12   12.0    50.0%    complete\n",
      "13   12.0    50.0%       right\n",
      "14   11.0   45.83%    horrible\n",
      "15   10.0   41.67%       super\n",
      "19    9.0    37.5%    original\n",
      "21    9.0    37.5%       black\n",
      "20    9.0    37.5%    previous\n",
      "18    9.0    37.5%         old\n",
      "17    9.0    37.5%       prime\n",
      "16    9.0    37.5%      crappy\n",
      "22    8.0   33.33%         wwf\n",
      "23    8.0   33.33%        next\n",
      "26    7.0   29.17%        tomb\n",
      "27    7.0   29.17%        fish\n",
      "28    7.0   29.17%   difficult\n",
      "25    7.0   29.17%        slow\n",
      "24    7.0   29.17%      actual\n",
      "29    6.0    25.0%      screen\n",
      "30    6.0    25.0%   different\n",
      "31    6.0    25.0%  impossible\n",
      "32    6.0    25.0%      saturn\n",
      "33    6.0    25.0%     classic\n",
      "34    6.0    25.0%       video\n",
      "35    6.0    25.0%        sick\n",
      "36    6.0    25.0%       sonic\n",
      "score 2 reviews most popular adjectives word:\n",
      "    Count Occur %     Phrase\n",
      "0    61.0  152.5%       good\n",
      "1    61.0  152.5%        bad\n",
      "2    59.0  147.5%       many\n",
      "3    42.0  105.0%        big\n",
      "4    34.0   85.0%       much\n",
      "5    33.0   82.5%      super\n",
      "6    25.0   62.5%   nintendo\n",
      "7    24.0   60.0%        old\n",
      "8    23.0   57.5%        new\n",
      "9    23.0   57.5%       high\n",
      "10   21.0   52.5%       evil\n",
      "13   20.0   50.0%       easy\n",
      "11   20.0   50.0%    overall\n",
      "12   20.0   50.0%      right\n",
      "14   19.0   47.5%   complete\n",
      "15   18.0   45.0%    classic\n",
      "16   18.0   45.0%    several\n",
      "17   18.0   45.0%     boring\n",
      "18   17.0   42.5%       hard\n",
      "19   16.0   40.0%       sega\n",
      "20   16.0   40.0%    ocarina\n",
      "21   16.0   40.0%     entire\n",
      "22   16.0   40.0%        due\n",
      "25   15.0   37.5%   terrible\n",
      "26   15.0   37.5%      solid\n",
      "24   15.0   37.5%        fun\n",
      "23   15.0   37.5%      first\n",
      "27   14.0   35.0%   resident\n",
      "28   13.0   32.5%  different\n",
      "29   13.0   32.5%       late\n",
      "30   13.0   32.5%     little\n",
      "31   12.0   30.0%        red\n",
      "32   12.0   30.0%   original\n",
      "33   12.0   30.0%   previous\n",
      "34   12.0   30.0%       main\n",
      "37   11.0   27.5%     second\n",
      "38   11.0   27.5%      exact\n",
      "39   11.0   27.5%      zelda\n",
      "36   11.0   27.5%       open\n",
      "35   11.0   27.5%      small\n",
      "40   10.0   25.0%     mortal\n",
      "41   10.0   25.0%    generic\n",
      "42   10.0   25.0%      awful\n",
      "43   10.0   25.0%      short\n",
      "44   10.0   25.0%      wrong\n",
      "45   10.0   25.0%      empty\n",
      "46   10.0   25.0%       able\n",
      "47   10.0   25.0%       dark\n",
      "48   10.0   25.0%     enough\n",
      "49   10.0   25.0%      basic\n",
      "50   10.0   25.0%       next\n",
      "51   10.0   25.0%  memorable\n",
      "52   10.0   25.0%       long\n",
      "score 3 reviews most popular adjectives word:\n",
      "    Count  Occur %     Phrase\n",
      "0   115.0  198.28%       good\n",
      "1    76.0  131.03%   original\n",
      "2    58.0   100.0%       many\n",
      "3    53.0   91.38%      super\n",
      "4    49.0   84.48%      first\n",
      "5    49.0   84.48%       much\n",
      "6    44.0   75.86%        big\n",
      "7    41.0   70.69%        bad\n",
      "8    38.0   65.52%        new\n",
      "9    32.0   55.17%       easy\n",
      "10   31.0   53.45%       hard\n",
      "11   28.0   48.28%    several\n",
      "14   21.0   36.21%       high\n",
      "15   21.0   36.21%     little\n",
      "13   21.0   36.21%    classic\n",
      "12   21.0   36.21%        fun\n",
      "16   20.0   34.48%  different\n",
      "17   20.0   34.48%      short\n",
      "18   20.0   34.48%    overall\n",
      "19   17.0   29.31%       nice\n",
      "20   17.0   29.31%  difficult\n",
      "21   16.0   27.59%      great\n",
      "22   16.0   27.59%    similar\n",
      "23   16.0   27.59%       huge\n",
      "24   16.0   27.59%       sure\n",
      "25   15.0   25.86%        old\n",
      "26   15.0   25.86%   previous\n",
      "score 4 reviews most popular adjectives word:\n",
      "    Count  Occur %     Phrase\n",
      "0   138.0  191.67%       good\n",
      "1    99.0   137.5%       many\n",
      "2    81.0   112.5%      super\n",
      "3    70.0   97.22%       much\n",
      "4    64.0   88.89%       easy\n",
      "5    60.0   83.33%        big\n",
      "6    59.0   81.94%   original\n",
      "7    52.0   72.22%        new\n",
      "8    52.0   72.22%       hard\n",
      "10   47.0   65.28%       mega\n",
      "9    47.0   65.28%      first\n",
      "11   39.0   54.17%      right\n",
      "12   37.0   51.39%        bad\n",
      "13   33.0   45.83%  different\n",
      "14   31.0   43.06%    certain\n",
      "15   31.0   43.06%        fun\n",
      "16   30.0   41.67%  important\n",
      "17   29.0   40.28%    several\n",
      "18   28.0   38.89%      green\n",
      "19   27.0    37.5%        old\n",
      "21   26.0   36.11%      final\n",
      "20   26.0   36.11%       late\n",
      "22   25.0   34.72%     entire\n",
      "23   25.0   34.72%        top\n",
      "24   24.0   33.33%     tricky\n",
      "25   24.0   33.33%      short\n",
      "26   23.0   31.94%       high\n",
      "27   23.0   31.94%     little\n",
      "28   22.0   30.56%    overall\n",
      "32   21.0   29.17%       sure\n",
      "31   21.0   29.17%   complete\n",
      "30   21.0   29.17%       next\n",
      "29   21.0   29.17%    metroid\n",
      "33   20.0   27.78%      great\n",
      "34   20.0   27.78%       cool\n",
      "35   20.0   27.78%    classic\n",
      "36   20.0   27.78%        due\n",
      "37   19.0   26.39%    awesome\n",
      "38   19.0   26.39%       kong\n",
      "39   19.0   26.39%  difficult\n",
      "40   18.0    25.0%     2-easy\n",
      "score 5 reviews most popular adjectives word:\n",
      "    Count  Occur %     Phrase\n",
      "0   130.0  188.41%       good\n",
      "1   103.0  149.28%       many\n",
      "2    71.0   102.9%       mega\n",
      "3    63.0    91.3%       much\n",
      "4    59.0   85.51%        big\n",
      "5    56.0   81.16%   original\n",
      "6    54.0   78.26%      super\n",
      "7    47.0   68.12%      first\n",
      "8    42.0   60.87%       easy\n",
      "9    40.0   57.97%        bad\n",
      "10   38.0   55.07%      great\n",
      "11   38.0   55.07%       evil\n",
      "12   36.0   52.17%      right\n",
      "13   35.0   50.72%       hard\n",
      "14   32.0   46.38%        new\n",
      "15   30.0   43.48%   complete\n",
      "16   30.0   43.48%       sure\n",
      "17   28.0   40.58%  different\n",
      "18   27.0   39.13%       able\n",
      "19   26.0   37.68%        old\n",
      "20   25.0   36.23%      video\n",
      "21   23.0   33.33%       cool\n",
      "22   23.0   33.33%    certain\n",
      "23   23.0   33.33%   previous\n",
      "24   22.0   31.88%        fun\n",
      "25   22.0   31.88%    classic\n",
      "26   21.0   30.43%      short\n",
      "27   21.0   30.43%  important\n",
      "28   21.0   30.43%    awesome\n",
      "29   20.0   28.99%      small\n",
      "30   20.0   28.99%     little\n",
      "31   19.0   27.54%      final\n",
      "32   19.0   27.54%       next\n",
      "33   19.0   27.54%   resident\n"
     ]
    }
   ],
   "source": [
    "# score 1-5 reviews with this user\n",
    "index = ['Phrase', 'Count', 'Occur %']\n",
    "\n",
    "for j in range(1,6):\n",
    "    test = pd.DataFrame()\n",
    "    d = get_token_adj(j, 0.25, 'A2582KMXLK2P06')\n",
    "    print('score {} reviews most popular adjectives word:'.format(j))\n",
    "    for i in d:\n",
    "        test = test.append(pd.Series(i, index = index), ignore_index = True)\n",
    "    test = test.sort_values('Count', ascending=False)\n",
    "    print(test)"
   ]
  },
  {
   "cell_type": "code",
   "execution_count": null,
   "metadata": {},
   "outputs": [],
   "source": []
  }
 ],
 "metadata": {
  "kernelspec": {
   "display_name": "Python 3",
   "language": "python",
   "name": "python3"
  },
  "language_info": {
   "codemirror_mode": {
    "name": "ipython",
    "version": 3
   },
   "file_extension": ".py",
   "mimetype": "text/x-python",
   "name": "python",
   "nbconvert_exporter": "python",
   "pygments_lexer": "ipython3",
   "version": "3.7.4"
  }
 },
 "nbformat": 4,
 "nbformat_minor": 2
}
